{
  "nbformat": 4,
  "nbformat_minor": 0,
  "metadata": {
    "colab": {
      "name": "0 ao Python - day 1.ipynb",
      "provenance": [],
      "collapsed_sections": [],
      "toc_visible": true,
      "include_colab_link": true
    },
    "kernelspec": {
      "name": "python3",
      "display_name": "Python 3"
    }
  },
  "cells": [
    {
      "cell_type": "markdown",
      "metadata": {
        "id": "view-in-github",
        "colab_type": "text"
      },
      "source": [
        "<a href=\"https://colab.research.google.com/gist/brunomarafiga/fadd35924eea151d6346ac5516de74a3/0-ao-python-day-1.ipynb\" target=\"_parent\"><img src=\"https://colab.research.google.com/assets/colab-badge.svg\" alt=\"Open In Colab\"/></a>"
      ]
    },
    {
      "cell_type": "markdown",
      "metadata": {
        "id": "K4t2YafO-54L"
      },
      "source": [
        "# Como criar uma variável\n",
        "\n",
        "Basta colocar o nome da sua variável e atribuir o valor a ela."
      ]
    },
    {
      "cell_type": "code",
      "metadata": {
        "colab": {
          "base_uri": "https://localhost:8080/"
        },
        "id": "B1NJwtMx-9mM",
        "outputId": "e9f01e70-780f-4303-ab10-c1edf90caeb9"
      },
      "source": [
        "variavel = 2\n",
        "print(variavel)"
      ],
      "execution_count": null,
      "outputs": [
        {
          "output_type": "stream",
          "text": [
            "2\n"
          ],
          "name": "stdout"
        }
      ]
    },
    {
      "cell_type": "markdown",
      "metadata": {
        "id": "_-CBMiPfQFP7"
      },
      "source": [
        "# Como saber o tipo da variável\n",
        "basta utilizar a função `type`"
      ]
    },
    {
      "cell_type": "code",
      "metadata": {
        "colab": {
          "base_uri": "https://localhost:8080/"
        },
        "id": "dafKw9F3QUCn",
        "outputId": "d9a84741-19fe-4206-9e39-b2dd2d9a2594"
      },
      "source": [
        "type(variavel)"
      ],
      "execution_count": null,
      "outputs": [
        {
          "output_type": "execute_result",
          "data": {
            "text/plain": [
              "int"
            ]
          },
          "metadata": {
            "tags": []
          },
          "execution_count": 3
        }
      ]
    },
    {
      "cell_type": "markdown",
      "metadata": {
        "id": "9bhoMz-W_07o"
      },
      "source": [
        "# Variável com valor real (quebradinho)"
      ]
    },
    {
      "cell_type": "code",
      "metadata": {
        "colab": {
          "base_uri": "https://localhost:8080/"
        },
        "id": "hds1BtaT_4yy",
        "outputId": "3077ff8d-376c-473f-b64c-f90fa01dea8c"
      },
      "source": [
        "preco_do_produto = 2.5\n",
        "print(preco_do_produto)\n",
        "type(preco_do_produto)"
      ],
      "execution_count": null,
      "outputs": [
        {
          "output_type": "stream",
          "text": [
            "2.5\n"
          ],
          "name": "stdout"
        },
        {
          "output_type": "execute_result",
          "data": {
            "text/plain": [
              "float"
            ]
          },
          "metadata": {
            "tags": []
          },
          "execution_count": 4
        }
      ]
    },
    {
      "cell_type": "markdown",
      "metadata": {
        "id": "iWFI85GJA-nc"
      },
      "source": [
        "# Variável String (texto)"
      ]
    },
    {
      "cell_type": "code",
      "metadata": {
        "colab": {
          "base_uri": "https://localhost:8080/"
        },
        "id": "JF2K4lwYBfMS",
        "outputId": "450bd3c5-1603-4e34-8c55-b0e04b78753c"
      },
      "source": [
        "variavel = \"este é um texto\"\n",
        "print(variavel)"
      ],
      "execution_count": null,
      "outputs": [
        {
          "output_type": "stream",
          "text": [
            "este é um texto\n"
          ],
          "name": "stdout"
        }
      ]
    },
    {
      "cell_type": "markdown",
      "metadata": {
        "id": "RBAiUFyTBwT3"
      },
      "source": [
        "# Variavel Boolean\n",
        "\n",
        "Apenas duas possibilidades:\n",
        "* Verdadeiro\n",
        "* Falso"
      ]
    },
    {
      "cell_type": "code",
      "metadata": {
        "colab": {
          "base_uri": "https://localhost:8080/"
        },
        "id": "Dh5LEUNIB2xu",
        "outputId": "7e8118d0-839b-449a-f545-d5d244e5056e"
      },
      "source": [
        "verdadeiro = True\n",
        "falso = False\n",
        "print(verdadeiro)\n",
        "print(falso)"
      ],
      "execution_count": null,
      "outputs": [
        {
          "output_type": "stream",
          "text": [
            "True\n",
            "False\n"
          ],
          "name": "stdout"
        }
      ]
    },
    {
      "cell_type": "markdown",
      "metadata": {
        "id": "b2Ux5OaTCduy"
      },
      "source": [
        "# Listas\n",
        "\n",
        "São coleções de dados, podendo serem todos do mesmo tipo ou de tipos diferentes"
      ]
    },
    {
      "cell_type": "code",
      "metadata": {
        "id": "DMcQ67lAB4Qs",
        "colab": {
          "base_uri": "https://localhost:8080/"
        },
        "outputId": "881bec10-8617-4475-a344-934d3244d91b"
      },
      "source": [
        "lista = [1,2,3,4,5,6,7,8]\n",
        "print(lista)"
      ],
      "execution_count": null,
      "outputs": [
        {
          "output_type": "stream",
          "text": [
            "[1, 2, 3, 4, 5, 6, 7, 8]\n"
          ],
          "name": "stdout"
        }
      ]
    },
    {
      "cell_type": "code",
      "metadata": {
        "colab": {
          "base_uri": "https://localhost:8080/"
        },
        "id": "13Ypx4NnDaKa",
        "outputId": "4aaca2d6-62b3-42e1-dcad-e26bb129fbae"
      },
      "source": [
        "lista2 = [True, False, True, True]\n",
        "print(lista2)"
      ],
      "execution_count": null,
      "outputs": [
        {
          "output_type": "stream",
          "text": [
            "[True, False, True, True]\n"
          ],
          "name": "stdout"
        }
      ]
    },
    {
      "cell_type": "code",
      "metadata": {
        "colab": {
          "base_uri": "https://localhost:8080/"
        },
        "id": "d9uOYKRYDlwm",
        "outputId": "f8c0111e-e527-4d90-e821-6cd8397cc87f"
      },
      "source": [
        "lista_kenzie = [1, 'luan', 2, 'guilherme', True, 'daniel']\n",
        "print(lista_kenzie)"
      ],
      "execution_count": null,
      "outputs": [
        {
          "output_type": "stream",
          "text": [
            "[1, 'luan', 2, 'guilherme', True, 'daniel']\n"
          ],
          "name": "stdout"
        }
      ]
    },
    {
      "cell_type": "markdown",
      "metadata": {
        "id": "-SENXQZ_E2YY"
      },
      "source": [
        "# Condições"
      ]
    },
    {
      "cell_type": "markdown",
      "metadata": {
        "id": "182x3NcDMSIb"
      },
      "source": [
        "## if ...\n",
        "\n"
      ]
    },
    {
      "cell_type": "markdown",
      "metadata": {
        "id": "dp8aymvyFSsX"
      },
      "source": [
        "Se o 3 é maior que 2, imprime\n",
        "* é maior\n",
        "* foi"
      ]
    },
    {
      "cell_type": "code",
      "metadata": {
        "colab": {
          "base_uri": "https://localhost:8080/"
        },
        "id": "MsDY7TRRD8fx",
        "outputId": "e96b6deb-17f9-4c35-872c-e35f618f4696"
      },
      "source": [
        "if 3 > 2:\n",
        "  print('é maior')\n",
        "  print('foi')"
      ],
      "execution_count": null,
      "outputs": [
        {
          "output_type": "stream",
          "text": [
            "é maior\n",
            "foi\n"
          ],
          "name": "stdout"
        }
      ]
    },
    {
      "cell_type": "markdown",
      "metadata": {
        "id": "qpqz5NJMMeC5"
      },
      "source": [
        ""
      ]
    },
    {
      "cell_type": "markdown",
      "metadata": {
        "id": "1PbfMgUREq9F"
      },
      "source": [
        "## usando variáveis"
      ]
    },
    {
      "cell_type": "code",
      "metadata": {
        "colab": {
          "base_uri": "https://localhost:8080/"
        },
        "id": "i2zGMTBTEpMo",
        "outputId": "2faa9151-3b42-4b07-a881-8f45843e6aa4"
      },
      "source": [
        "variavel_1 = 3\n",
        "variavel_2 = 4\n",
        "if variavel_1 < variavel_2:\n",
        "    print('O valor na variável 1 é menor')"
      ],
      "execution_count": null,
      "outputs": [
        {
          "output_type": "stream",
          "text": [
            "O valor na variável 1 é menor\n"
          ],
          "name": "stdout"
        }
      ]
    },
    {
      "cell_type": "markdown",
      "metadata": {
        "id": "CnbzuKN5FfMw"
      },
      "source": [
        "## if ... else ...\n",
        "\n",
        "E se a nossa condição não for aceita, o que fazemos?\n",
        "\n",
        "Utilizamos o `else`"
      ]
    },
    {
      "cell_type": "code",
      "metadata": {
        "colab": {
          "base_uri": "https://localhost:8080/"
        },
        "id": "Pv4EVTK4EU8Z",
        "outputId": "d76141b4-fe78-431f-c30d-f26e096703cc"
      },
      "source": [
        "if 2 > 3:\n",
        "    print('é maior')\n",
        "    print('foi')\n",
        "else: \n",
        "    print('não é maior')\n",
        "    print('foi também')"
      ],
      "execution_count": null,
      "outputs": [
        {
          "output_type": "stream",
          "text": [
            "não é maior\n",
            "foi também\n"
          ],
          "name": "stdout"
        }
      ]
    },
    {
      "cell_type": "markdown",
      "metadata": {
        "id": "Rl5p6k70Mtq8"
      },
      "source": [
        "## if ... elif ... else ..."
      ]
    },
    {
      "cell_type": "code",
      "metadata": {
        "id": "gs_0-n2kNFvJ"
      },
      "source": [
        "numero_1 = 3\n",
        "numero_2 = 4\n",
        "\n",
        "if numero_1 > numero_2:\n",
        "    print('O primeiro número é maior que o segundo')\n",
        "elif numero_1 == numero_2:\n",
        "    print('O primeiro número é igual ao segundo')\n",
        "else:\n",
        "    print('O primeiro número é menor que o segundo')"
      ],
      "execution_count": null,
      "outputs": []
    }
  ]
}